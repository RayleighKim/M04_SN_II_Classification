{
  "nbformat": 4,
  "nbformat_minor": 0,
  "metadata": {
    "colab": {
      "name": "M4_Classification.ipynb",
      "version": "0.3.2",
      "provenance": [],
      "collapsed_sections": [],
      "include_colab_link": true
    },
    "kernelspec": {
      "display_name": "Python 3",
      "language": "python",
      "name": "python3"
    }
  },
  "cells": [
    {
      "cell_type": "markdown",
      "metadata": {
        "id": "view-in-github",
        "colab_type": "text"
      },
      "source": [
        "[View in Colaboratory](https://colab.research.google.com/github/RayleighKim/M04_SN_II_Classification/blob/master/M4_Classification.ipynb)"
      ]
    },
    {
      "metadata": {
        "id": "3_Sx57MBmaSn",
        "colab_type": "text"
      },
      "cell_type": "markdown",
      "source": [
        "# Classification 실습\n",
        "\n",
        "1. Multivariate Logistic Regression\n",
        "2. Artificial Neural Network Classification\n",
        "\n",
        "Data : RetailChurnTemplate_TaggedData.csv"
      ]
    },
    {
      "metadata": {
        "id": "SO2YQE2xmaSp",
        "colab_type": "text"
      },
      "cell_type": "markdown",
      "source": [
        "# 1. 라이브러리 로딩"
      ]
    },
    {
      "metadata": {
        "id": "xMVaAWZWmaSp",
        "colab_type": "code",
        "colab": {}
      },
      "cell_type": "code",
      "source": [
        "import pandas as pd\n",
        "import numpy as np\n",
        "import sklearn as sk\n",
        "import statsmodels.api as sm\n",
        "\n",
        "from sklearn import linear_model\n",
        "from sklearn import neural_network\n",
        "from sklearn.ensemble import RandomForestClassifier\n",
        "from sklearn import metrics"
      ],
      "execution_count": 0,
      "outputs": []
    },
    {
      "metadata": {
        "id": "gKfeZTz3maSs",
        "colab_type": "text"
      },
      "cell_type": "markdown",
      "source": [
        "# 2. 데이터 로딩 & 기초 전처리"
      ]
    },
    {
      "metadata": {
        "id": "Eh5V7YszmaSs",
        "colab_type": "text"
      },
      "cell_type": "markdown",
      "source": [
        "1. 데이터를 불러올 것이다.\n",
        "2. 사용하지 않는 데이터는 버려버릴 것이다!\n",
        "3. 빈 칸이 있을까?\n",
        "4. 더미를 이용하여 펼칠 것이다!"
      ]
    },
    {
      "metadata": {
        "id": "3TEzrS-AmaSt",
        "colab_type": "code",
        "colab": {}
      },
      "cell_type": "code",
      "source": [
        "churn = pd.read_csv('https://raw.githubusercontent.com/RayleighKim/Example_datasets/master/RetailChurnTemplate_FeatureEngg.csv')\n",
        "\n",
        "churn.head()"
      ],
      "execution_count": 0,
      "outputs": []
    },
    {
      "metadata": {
        "id": "kvBVpFDumaSv",
        "colab_type": "code",
        "colab": {}
      },
      "cell_type": "code",
      "source": [
        "churn_dropped = churn.drop(['UserId', 'Gender', 'UserType'], axis=1)\n",
        "churn_dropped.head()"
      ],
      "execution_count": 0,
      "outputs": []
    },
    {
      "metadata": {
        "id": "D3M5gBYWmaSx",
        "colab_type": "code",
        "colab": {}
      },
      "cell_type": "code",
      "source": [
        "churn_dropped.isna().any()"
      ],
      "execution_count": 0,
      "outputs": []
    },
    {
      "metadata": {
        "id": "egjx2M89maS0",
        "colab_type": "text"
      },
      "cell_type": "markdown",
      "source": [
        "더미를 이용하여 펼치자."
      ]
    },
    {
      "metadata": {
        "id": "zHdig_hKmaS0",
        "colab_type": "code",
        "colab": {}
      },
      "cell_type": "code",
      "source": [
        "churn_dropped.head()"
      ],
      "execution_count": 0,
      "outputs": []
    },
    {
      "metadata": {
        "id": "1P5JtPm0maS2",
        "colab_type": "code",
        "colab": {}
      },
      "cell_type": "code",
      "source": [
        "pd.get_dummies(churn_dropped[['Age','Address']])"
      ],
      "execution_count": 0,
      "outputs": []
    },
    {
      "metadata": {
        "id": "xVu600gEmaS4",
        "colab_type": "code",
        "colab": {}
      },
      "cell_type": "code",
      "source": [
        "churn_processed = pd.concat([churn_dropped, pd.get_dummies(churn_dropped[['Age','Address']])], axis=1).drop(['Age','Address'], axis=1)\n",
        "\n",
        "churn_processed['label'] = 1\n",
        "churn_processed.ix[churn_processed['Label']=='Nonchurner', 'label'] = 0\n",
        "\n",
        "churn_ready = churn_processed.drop('Label', axis=1)\n",
        "\n",
        "churn_ready.head()"
      ],
      "execution_count": 0,
      "outputs": []
    },
    {
      "metadata": {
        "id": "XATWWluTmaS6",
        "colab_type": "text"
      },
      "cell_type": "markdown",
      "source": [
        "# 3. 데이터 스플릿.\n",
        "\n",
        "시계열은 아니다!\n",
        "\n",
        "데이터의 모양을 먼저 본다"
      ]
    },
    {
      "metadata": {
        "id": "C1w7BJJrmaS7",
        "colab_type": "code",
        "colab": {}
      },
      "cell_type": "code",
      "source": [
        "churn_processed.shape"
      ],
      "execution_count": 0,
      "outputs": []
    },
    {
      "metadata": {
        "id": "LcuQAPMImaS9",
        "colab_type": "code",
        "colab": {}
      },
      "cell_type": "code",
      "source": [
        "X_train, X_test, Y_train, Y_test = churn_ready.ix[:7000].drop('label', axis=1), \\\n",
        "churn_ready.ix[7001:].drop('label', axis=1),\\\n",
        "churn_ready.ix[:7000, 'label'],\\\n",
        "churn_ready.ix[7001:, 'label']"
      ],
      "execution_count": 0,
      "outputs": []
    },
    {
      "metadata": {
        "id": "YLtTayifmaTA",
        "colab_type": "code",
        "colab": {}
      },
      "cell_type": "code",
      "source": [
        "print(X_train.shape, X_test.shape, Y_train.shape, Y_test.shape)"
      ],
      "execution_count": 0,
      "outputs": []
    },
    {
      "metadata": {
        "id": "S-eHamLemaTB",
        "colab_type": "text"
      },
      "cell_type": "markdown",
      "source": [
        "# 4. Logistic Regression"
      ]
    },
    {
      "metadata": {
        "id": "OZxLFG4OmaTC",
        "colab_type": "code",
        "colab": {}
      },
      "cell_type": "code",
      "source": [
        "# 6일 자른것\n",
        "\n",
        "clf = linear_model.LogisticRegression()\n",
        "clf.fit(X_train, Y_train)\n",
        "Y_pred = clf.predict(X_test)\n",
        "Y_pred_train = clf.predict(X_train)\n",
        "\n",
        "print('트레이닝 7001명 중 실제 churner의 비율 : ',Y_train.mean())\n",
        "print('트레이닝 7001명에 대해서 예측된 churner의 비율 :', Y_pred_train.mean())\n",
        "print('모델의 트레이닝셋위의 정확도는 : {:.2f}'.format(clf.score(X_train, Y_train)*100))\n",
        "\n",
        "print('--------------------------------------------')\n",
        "\n",
        "print('테스트 2158명 중 실제 churner의 비율 : ',Y_test.mean())\n",
        "print('테스트 2158명에 대해서 예측된 churner의 비율 :', Y_pred.mean())\n",
        "print('모델의 테스트셋위의 정확도는 : {:.2f}'.format(clf.score(X_test, Y_test)*100))\n",
        "\n",
        "\n",
        "print('---------------------------------------------')\n",
        "print(metrics.confusion_matrix(Y_test,Y_pred).T)\n",
        "\n",
        "\n",
        "print('---------------------------------------------')\n",
        "print(metrics.classification_report(Y_test, Y_pred, target_names=('Non-churner','churner')))\n",
        "pd.DataFrame({'colnames':X_train.columns, 'coef':clf.coef_.reshape(-1,)})"
      ],
      "execution_count": 0,
      "outputs": []
    },
    {
      "metadata": {
        "id": "WoS3DLkXmaTE",
        "colab_type": "text"
      },
      "cell_type": "markdown",
      "source": [
        "# 5. Neural Network Classification"
      ]
    },
    {
      "metadata": {
        "id": "0DkRoFvRmaTE",
        "colab_type": "code",
        "colab": {}
      },
      "cell_type": "code",
      "source": [
        "\n",
        "clf = neural_network.MLPClassifier(hidden_layer_sizes=(32,32,32),learning_rate_init = 0.0001,max_iter=2000, random_state=2018)\n",
        "clf.fit(X_train, Y_train)\n",
        "Y_pred = clf.predict(X_test)\n",
        "Y_pred_train = clf.predict(X_train)\n",
        "\n",
        "print('트레이닝 7001명 중 실제 churner의 비율 : ',Y_train.mean())\n",
        "print('트레이닝 7001명에 대해서 예측된 churner의 비율 :', Y_pred_train.mean())\n",
        "print('모델의 트레이닝셋위의 정확도는 : {:.2f}'.format(clf.score(X_train, Y_train)*100))\n",
        "\n",
        "print('--------------------------------------------')\n",
        "\n",
        "print('테스트 2158명 중 실제 churner의 비율 : ',Y_test.mean())\n",
        "print('테스트 2158명에 대해서 예측된 churner의 비율 :', Y_pred.mean())\n",
        "print('모델의 테스트셋위의 정확도는 : {:.2f}'.format(clf.score(X_test, Y_test)*100))\n",
        "\n",
        "\n",
        "print('---------------------------------------------')\n",
        "print(metrics.confusion_matrix(Y_test,Y_pred).T)\n",
        "\n",
        "\n",
        "print('---------------------------------------------')\n",
        "print(metrics.classification_report(Y_test, Y_pred, target_names=('Non-churner','churner')))\n",
        "print(clf.coefs_)"
      ],
      "execution_count": 0,
      "outputs": []
    },
    {
      "metadata": {
        "id": "FSGEckNWm96R",
        "colab_type": "text"
      },
      "cell_type": "markdown",
      "source": [
        "## (+Additional) Random Forest"
      ]
    },
    {
      "metadata": {
        "id": "6zLtIGIRnkZm",
        "colab_type": "code",
        "colab": {}
      },
      "cell_type": "code",
      "source": [
        "clf = RandomForestClassifier(max_depth=8)\n",
        "clf.fit(X_train, Y_train)\n",
        "Y_pred = clf.predict(X_test)\n",
        "Y_pred_train = clf.predict(X_train)\n",
        "\n",
        "print('트레이닝 7001명 중 실제 churner의 비율 : ',Y_train.mean())\n",
        "print('트레이닝 7001명에 대해서 예측된 churner의 비율 :', Y_pred_train.mean())\n",
        "print('모델의 트레이닝셋위의 정확도는 : {:.2f}'.format(clf.score(X_train, Y_train)*100))\n",
        "\n",
        "print('--------------------------------------------')\n",
        "\n",
        "print('테스트 2158명 중 실제 churner의 비율 : ',Y_test.mean())\n",
        "print('테스트 2158명에 대해서 예측된 churner의 비율 :', Y_pred.mean())\n",
        "print('모델의 테스트셋위의 정확도는 : {:.2f}'.format(clf.score(X_test, Y_test)*100))\n",
        "\n",
        "\n",
        "print('---------------------------------------------')\n",
        "print(metrics.confusion_matrix(Y_test,Y_pred).T)\n",
        "\n",
        "\n",
        "print('---------------------------------------------')\n",
        "print(metrics.classification_report(Y_test, Y_pred, target_names=('Non-churner','churner')))\n",
        "print(clf.feature_importances_)"
      ],
      "execution_count": 0,
      "outputs": []
    },
    {
      "metadata": {
        "id": "8swMf5nAn19E",
        "colab_type": "code",
        "colab": {}
      },
      "cell_type": "code",
      "source": [
        "}"
      ],
      "execution_count": 0,
      "outputs": []
    }
  ]
}